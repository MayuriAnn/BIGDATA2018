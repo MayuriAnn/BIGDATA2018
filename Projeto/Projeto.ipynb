{
 "cells": [
  {
   "cell_type": "code",
   "execution_count": 1,
   "metadata": {},
   "outputs": [],
   "source": [
    "import os.path\n",
    "import numpy as np\n",
    "import copy\n",
    "#import networkx as nx\n",
    "import os\n",
    "import pickle"
   ]
  },
  {
   "cell_type": "code",
   "execution_count": 2,
   "metadata": {},
   "outputs": [],
   "source": [
    "arquivo = os.path.join('projeto.csv') \n",
    "\n",
    "dataRDD = (sc.textFile(arquivo, 8))"
   ]
  },
  {
   "cell_type": "code",
   "execution_count": 3,
   "metadata": {},
   "outputs": [],
   "source": [
    "RDD1 = dataRDD.map(lambda l: l.split(',')).map(lambda l: {'label':float(l[0]),'features':[float(l[1]),float(l[2]),l[3]]})\n",
    "RDD = RDD1.filter(lambda v: v['label']<=1.61)"
   ]
  },
  {
   "cell_type": "code",
   "execution_count": 4,
   "metadata": {},
   "outputs": [],
   "source": [
    "weights = [.999,.001]\n",
    "seed = 42\n",
    "lpRDD, lpTest = RDD.randomSplit(weights, seed)"
   ]
  },
  {
   "cell_type": "code",
   "execution_count": 5,
   "metadata": {
    "hide_input": false
   },
   "outputs": [],
   "source": [
    "def contador(lp, feats, splits):\n",
    "    r = []\n",
    "    for feat in feats:\n",
    "        splitss = splits[feat]\n",
    "        for split in splitss:\n",
    "            if feat==3:\n",
    "                r.append( ((feat,split), ((0,lp['label']), (0,lp['label']**2), (0,1))))\n",
    "            elif feat==0 or feat==1:\n",
    "                if lp['features'][feat] >= split:\n",
    "                    r.append( ((feat,split), ((0,lp['label']), (0,lp['label']**2), (0,1))))\n",
    "                else:\n",
    "                    r.append( ((feat,split), ((lp['label'],0), (lp['label']**2,0), (1,0))))\n",
    "                \n",
    "            elif feat==2:                \n",
    "                if lp['features'][feat] in split:\n",
    "                    r.append( ((feat,split), ((0,lp['label']), (0,lp['label']**2), (0,1))))\n",
    "                else:\n",
    "                    r.append( ((feat,split), ((lp['label'],0), (lp['label']**2,0), (1,0))))\n",
    "                \n",
    "    return r"
   ]
  },
  {
   "cell_type": "code",
   "execution_count": 6,
   "metadata": {},
   "outputs": [],
   "source": [
    "def soma(t1,t2):\n",
    "    return  ((t1[0][0]+t2[0][0],t1[0][1]+t2[0][1]), #((0.668333333, 0), (0.44666944399888886, 0), (1, 0))\n",
    "             (t1[1][0]+t2[1][0],t1[1][1]+t2[1][1]),\n",
    "             (t1[2][0]+t2[2][0],t1[2][1]+t2[2][1]))"
   ]
  },
  {
   "cell_type": "code",
   "execution_count": 7,
   "metadata": {},
   "outputs": [],
   "source": [
    "def calc_stats(t):\n",
    "    if t[1][2][0] > 0:\n",
    "        mmenor = t[1][0][0] / t[1][2][0]\n",
    "        sdmenor = (t[1][1][0] - (t[1][0][0]**2 / t[1][2][0]))/(t[1][2][0])\n",
    "        cvmenor = np.sqrt(sdmenor)/mmenor*100\n",
    "        menor = (sdmenor, cvmenor,t[1][2][0])\n",
    "    else:\n",
    "        menor = (0, 0, 0)\n",
    "    \n",
    "    if t[1][2][1] > 0:    \n",
    "        mmaior = t[1][0][1] / t[1][2][1]\n",
    "        sdmaior = (t[1][1][1] - (t[1][0][1]**2 / t[1][2][1]))/(t[1][2][1])\n",
    "        cvmaior = np.sqrt(sdmaior)/mmaior*100\n",
    "        maior = (sdmaior, cvmaior,t[1][2][1])\n",
    "    else:\n",
    "        maior = (0, 0, 0)\n",
    "    return (t[0], menor, maior)"
   ]
  },
  {
   "cell_type": "code",
   "execution_count": 8,
   "metadata": {},
   "outputs": [],
   "source": [
    "def sdreduction(t,c):\n",
    "    #return ((t[0], c[2][0] - t[1][0]*(t[1][2]/c[2][2]) - t[2][0]*(t[2][2]/c[2][2]))) \n",
    "    return ((t[0], c[2][0] - (t[1][2]/c[2][2])*t[1][0] - (t[2][2]/c[2][2])*t[2][0], (t[1][1], t[2][1]))) "
   ]
  },
  {
   "cell_type": "code",
   "execution_count": 9,
   "metadata": {},
   "outputs": [],
   "source": [
    "def prepara(t):\n",
    "    \n",
    "    return ((t['features'][0],t['features'][0]),(t['features'][1],t['features'][1]), set((t['features'][2],)))\n",
    "    \n",
    "def minmax(t1,t2):\n",
    "    return ((min(t1[0][0],t2[0][0]),max(t1[0][1],t2[0][1])),\n",
    "            (min(t1[1][0],t2[1][0]),max(t1[1][1],t2[1][1])),\n",
    "             t1[2].union(t2[2]))"
   ]
  },
  {
   "cell_type": "code",
   "execution_count": 10,
   "metadata": {},
   "outputs": [],
   "source": [
    "def predict(arvore, lp, i=0):\n",
    "    if type(arvore[i]) != tuple:\n",
    "        return (lp['label'], arvore[i])\n",
    "    \n",
    "    node = arvore[i]\n",
    "\n",
    "    if node[0]<2:\n",
    "        if lp['features'][node[0]]<node[1]:\n",
    "            return predict(arvore, lp, 2*i+1)\n",
    "        else:\n",
    "            return predict(arvore, lp, 2*i+2)\n",
    "    elif node[0]==2:\n",
    "        if lp['features'][node[0]] in node[1]:\n",
    "            return predict(arvore, lp, 2*i+1)\n",
    "        else:\n",
    "            return predict(arvore, lp, 2*i+2)\n",
    "        \n",
    "    "
   ]
  },
  {
   "cell_type": "code",
   "execution_count": 11,
   "metadata": {},
   "outputs": [],
   "source": [
    "import time\n",
    "def tree(lpRDD, maxDepth=1, currDepth=0, st=None,verbose=1, arvore={}, pos=0):\n",
    "    if st!=None:\n",
    "        if st[0]<10 or maxDepth<currDepth or st[1]<0:\n",
    "            media = lpRDD.map(lambda x: x['label']).mean()\n",
    "            arvore[pos] = media\n",
    "            #print (st, media, currDepth, pos, lpRDD.count())\n",
    "            return arvore #[caminho, (direction, media)]    \n",
    "    \n",
    "    t0 = time.time()\n",
    "\n",
    "    (min0,max0),(min1,max1),periods =lpRDD.map(prepara).reduce(minmax)\n",
    "    \n",
    "    if verbose >= 3:\n",
    "        print ( \"min-max-uniques:\", (min0,max0),(min1,max1),periods)\n",
    "    if verbose >= 2:\n",
    "        print ('calc minmax: %.2f s'%(time.time()-t0))\n",
    "    \n",
    "    periods = list(periods)\n",
    "\n",
    "    \n",
    "    distsplits = [i*(max0-min0)/5. for i in range(1,5)]\n",
    "    timesplits = [i*(max1-min1)/5. for i in range(1,5)]    \n",
    "    perisplits = [tuple([periods[j] for j in range(i+1)]) for i in range(len(periods)-1)]\n",
    "\n",
    "    feats = [0,1,2,3]\n",
    "    splits = [distsplits,timesplits,perisplits,['full']] \n",
    "    \n",
    "    results = lpRDD.flatMap(lambda lp: contador(lp,feats,splits)).reduceByKey(soma)\n",
    "    \n",
    "    if verbose >= 2:\n",
    "        print ('contador: %.2f s'%(time.time()-t0))\n",
    "    statistics = results.map(lambda c: calc_stats(c)) #.filter(lambda x: x[0][0]<3)\n",
    "    \n",
    "    \n",
    "    #statistics3 = results.map(lambda c: calc_stats(c)).filter(lambda x: x[0][0]==3)\n",
    "    \n",
    "    classe = statistics.filter(lambda x: x[0][0]==3).collect()[0]\n",
    "    if verbose >= 2:\n",
    "        print ('estatísticas classe: %.2f s'%(time.time()-t0))\n",
    "    es = statistics.filter(lambda x: x[0][0]<3).map(lambda x: sdreduction(x,classe)).collect()  \n",
    "    if verbose >= 2:\n",
    "        print ('estatísticas dados: %.2f s'%(time.time()-t0))\n",
    "        \n",
    "    e = max(es, key = lambda t: t[1]) #atributo / split escolhido\n",
    "    \n",
    "    if verbose >= 1:\n",
    "        print ('atributo escolhido: %.2f s'%(time.time()-t0))\n",
    "        #print (e)\n",
    "        \n",
    "        \n",
    "    if e[0][0]<2:\n",
    "            menorRDD = lpRDD.filter(lambda v: v['features'][e[0][0]]<e[0][1])\n",
    "            if verbose >= 2:\n",
    "                print ('filtro menor01: %.2f s'%(time.time()-t0))\n",
    "            maiorRDD = lpRDD.filter(lambda v: v['features'][e[0][0]]>e[0][1])   \n",
    "            if verbose >= 2:\n",
    "                print ('filtro maior01: %.2f s'%(time.time()-t0))\n",
    "    elif e[0][0]==2:\n",
    "            menorRDD = lpRDD.filter(lambda v: v['features'][e[0][0]] in e[0][1])\n",
    "            if verbose >= 2:\n",
    "                print ('filtro menor2: %.2f s'%(time.time()-t0))\n",
    "            maiorRDD = lpRDD.filter(lambda v: v['features'][e[0][0]] not in e[0][1])\n",
    "            if verbose >= 2:\n",
    "                print ('filtro maior2: %.2f s'%(time.time()-t0))\n",
    "    \n",
    "    #caminho.append((direction,e[0]))\n",
    "    #camenor = copy.deepcopy(caminho)\n",
    "    #camaior = copy.deepcopy(caminho)\n",
    "    arvore[pos] = e[0]\n",
    "    #print (e[0], pos)\n",
    "    \n",
    "    #if menorRDD.count()>1:\n",
    "    amenor = tree(menorRDD, maxDepth, currDepth+1,(e[2][0], e[1]),verbose,arvore,pos=(2*pos+1))\n",
    "  \n",
    "    #if maiorRDD.count()>1:\n",
    "    amaior = tree(maiorRDD, maxDepth, currDepth+1,(e[2][1], e[1]),verbose,arvore,pos=(2*pos+2))\n",
    "    return arvore"
   ]
  },
  {
   "cell_type": "code",
   "execution_count": 12,
   "metadata": {
    "scrolled": true
   },
   "outputs": [],
   "source": [
    "ti=time.time()\n",
    "arvore = tree(lpRDD,maxDepth=6,verbose=0)\n",
    "tf = time.time()"
   ]
  },
  {
   "cell_type": "code",
   "execution_count": 13,
   "metadata": {},
   "outputs": [
    {
     "name": "stdout",
     "output_type": "stream",
     "text": [
      "Tempo total de construção paralelizado (local[4]): 1962.85 segundos\n"
     ]
    }
   ],
   "source": [
    "print('Tempo total de construção paralelizado (local[4]): %.2f segundos'%(tf-ti))"
   ]
  },
  {
   "cell_type": "code",
   "execution_count": 14,
   "metadata": {},
   "outputs": [
    {
     "data": {
      "text/plain": [
       "{0: (1, 0.966),\n",
       " 1: (2, ('n', 'ep', 'm')),\n",
       " 2: (2, ('n', 'ep')),\n",
       " 3: (2, ('n',)),\n",
       " 4: (0, 14.111904000000001),\n",
       " 5: (0, 9.257824),\n",
       " 6: 1.2442886236810111,\n",
       " 7: (1, 0.7726666666664),\n",
       " 8: (2, ('m',)),\n",
       " 9: (1, 0.7726666666664),\n",
       " 10: (2, ('pm',)),\n",
       " 11: 1.5427777777799998,\n",
       " 12: 1.1424757939921832,\n",
       " 15: (0, 14.102472),\n",
       " 16: 0.9309187547456215,\n",
       " 17: (1, 0.7726666666664),\n",
       " 18: (0, 14.112968),\n",
       " 19: (0, 11.289280000000002),\n",
       " 20: (0, 8.14508),\n",
       " 21: (1, 0.5351111111112001),\n",
       " 22: (0, 1.4110799999999997),\n",
       " 31: (1, 0.618),\n",
       " 32: 0.8019344791580837,\n",
       " 35: (0, 10.576884000000002),\n",
       " 36: (0, 10.963128),\n",
       " 37: (1, 0.7726666666664),\n",
       " 38: 0.968855450489887,\n",
       " 39: (1, 0.618),\n",
       " 40: (1, 0.59577777777776),\n",
       " 41: 1.5072571054435044,\n",
       " 42: (2, ('pm',)),\n",
       " 43: 0.610305316092,\n",
       " 44: (0, 1.4112920000000002),\n",
       " 45: 0.0,\n",
       " 46: (0, 1.4110799999999997),\n",
       " 63: (0, 11.281128),\n",
       " 64: (0, 6.352088),\n",
       " 71: (1, 0.46349999999999997),\n",
       " 72: (1, 0.4013333333336),\n",
       " 73: 1.350463656450786,\n",
       " 74: (0, 1.3329159999999998),\n",
       " 75: (1, 0.618),\n",
       " 76: 1.1287746952557132,\n",
       " 79: (0, 9.030992000000001),\n",
       " 80: (0, 6.8912),\n",
       " 81: 0.8248773718563898,\n",
       " 82: (2, ('pm',)),\n",
       " 85: (0, 1.1932639999999999),\n",
       " 86: 1.20258265833366,\n",
       " 89: 0.0,\n",
       " 90: (0, 1.4112920000000002),\n",
       " 93: 0.0,\n",
       " 94: (0, 1.4110799999999997),\n",
       " 127: 0.8651670881041994,\n",
       " 128: 0.8130564751774797,\n",
       " 129: 1.27638888889,\n",
       " 130: 0.938671452815161,\n",
       " 143: 0.8896188864496496,\n",
       " 144: 1.0941746781427493,\n",
       " 145: 0.6093179682539868,\n",
       " 146: 0.8145224944305577,\n",
       " 149: 0.0,\n",
       " 150: 1.0207133185762562,\n",
       " 151: 1.0103567525522748,\n",
       " 152: 1.0360752538163271,\n",
       " 159: 1.0827188657690099,\n",
       " 160: 0.9981748839037394,\n",
       " 161: 1.4596072351417495,\n",
       " 162: 1.203711179780995,\n",
       " 165: 0.9881028502704496,\n",
       " 166: 1.0616101734025183,\n",
       " 171: 0.0,\n",
       " 172: 1.2156557610418084,\n",
       " 181: 0.0,\n",
       " 182: 0.9345149068540415,\n",
       " 189: 0.0,\n",
       " 190: 0.9939636604896248}"
      ]
     },
     "execution_count": 14,
     "metadata": {},
     "output_type": "execute_result"
    }
   ],
   "source": [
    "arvore"
   ]
  },
  {
   "cell_type": "code",
   "execution_count": 15,
   "metadata": {},
   "outputs": [],
   "source": [
    "with open('arvore6.pickle', 'wb') as handle:\n",
    "    pickle.dump(arvore, handle, protocol=pickle.HIGHEST_PROTOCOL)\n",
    "\n"
   ]
  },
  {
   "cell_type": "code",
   "execution_count": 59,
   "metadata": {},
   "outputs": [],
   "source": [
    "with open('arvore.pickle', 'rb') as handle:\n",
    "    arvore = pickle.load(handle)"
   ]
  },
  {
   "cell_type": "code",
   "execution_count": 60,
   "metadata": {},
   "outputs": [
    {
     "data": {
      "text/plain": [
       "{0: (1, 0.966),\n",
       " 1: (2, ('n', 'ep', 'm')),\n",
       " 2: (2, ('n', 'ep')),\n",
       " 3: (2, ('n',)),\n",
       " 4: (0, 14.111904000000001),\n",
       " 5: (0, 9.257824),\n",
       " 6: 1.2442886236810111,\n",
       " 7: (1, 0.7726666666664),\n",
       " 8: (2, ('m',)),\n",
       " 9: (1, 0.7726666666664),\n",
       " 10: (2, ('pm',)),\n",
       " 11: 1.5427777777799998,\n",
       " 12: 1.1424757939921832,\n",
       " 15: (0, 14.102472),\n",
       " 16: 0.9309187547456215,\n",
       " 17: (1, 0.7726666666664),\n",
       " 18: (0, 14.112968),\n",
       " 19: (0, 11.289280000000002),\n",
       " 20: (0, 8.14508),\n",
       " 21: (1, 0.5351111111112001),\n",
       " 22: (0, 1.4110799999999997),\n",
       " 31: 0.8647754257333788,\n",
       " 32: 0.8019344791580837,\n",
       " 35: 0.8969222645640487,\n",
       " 36: 1.052325329327816,\n",
       " 37: 1.0222386525149663,\n",
       " 38: 0.968855450489887,\n",
       " 39: 1.0834150201238646,\n",
       " 40: 0.9990946081062726,\n",
       " 41: 1.5072571054435044,\n",
       " 42: 1.2107425143840282,\n",
       " 43: 0.610305316092,\n",
       " 44: 0.9345149068540415,\n",
       " 45: 0.0,\n",
       " 46: 0.9939636604896248}"
      ]
     },
     "execution_count": 60,
     "metadata": {},
     "output_type": "execute_result"
    }
   ],
   "source": [
    "arvore"
   ]
  },
  {
   "cell_type": "code",
   "execution_count": 16,
   "metadata": {},
   "outputs": [],
   "source": [
    "verify = lpTest.map(lambda x: predict(arvore, x)).map(lambda x: (x[0]-x[1])**2).sum()"
   ]
  },
  {
   "cell_type": "code",
   "execution_count": 17,
   "metadata": {},
   "outputs": [
    {
     "name": "stdout",
     "output_type": "stream",
     "text": [
      "75.11316218582964\n"
     ]
    }
   ],
   "source": [
    "\n",
    "print(verify)"
   ]
  },
  {
   "cell_type": "code",
   "execution_count": 11,
   "metadata": {},
   "outputs": [
    {
     "data": {
      "text/plain": [
       "(count: 4198190, mean: 1.23252597825885, stdev: 1.26502390536, max: 16.9144444444, min: 0.483611111111)"
      ]
     },
     "execution_count": 11,
     "metadata": {},
     "output_type": "execute_result"
    }
   ],
   "source": [
    "RDD1.map(lambda x: x['label']).stats()"
   ]
  },
  {
   "cell_type": "code",
   "execution_count": 18,
   "metadata": {},
   "outputs": [
    {
     "data": {
      "text/plain": [
       "(count: 4002221, mean: 1.0162279862856178, stdev: 0.179239465407, max: 1.61, min: 0.483611111111)"
      ]
     },
     "execution_count": 18,
     "metadata": {},
     "output_type": "execute_result"
    }
   ],
   "source": [
    "RDD1.map(lambda x: x['label']).filter(lambda v: v<=1.61).stats()\n"
   ]
  },
  {
   "cell_type": "code",
   "execution_count": 19,
   "metadata": {},
   "outputs": [
    {
     "data": {
      "text/plain": [
       "(count: 195969, mean: 5.649920391319474, stdev: 3.62732854356, max: 16.9144444444, min: 1.61138888889)"
      ]
     },
     "execution_count": 19,
     "metadata": {},
     "output_type": "execute_result"
    }
   ],
   "source": [
    "RDD1.map(lambda x: x['label']).filter(lambda v: v>1.61).stats()\n"
   ]
  },
  {
   "cell_type": "code",
   "execution_count": 3,
   "metadata": {
    "scrolled": true
   },
   "outputs": [
    {
     "data": {
      "text/plain": [
       "4.667940231385431"
      ]
     },
     "execution_count": 3,
     "metadata": {},
     "output_type": "execute_result"
    }
   ],
   "source": [
    "(195969/4198190)*100"
   ]
  },
  {
   "cell_type": "code",
   "execution_count": 265,
   "metadata": {},
   "outputs": [],
   "source": [
    "\n"
   ]
  },
  {
   "cell_type": "code",
   "execution_count": 310,
   "metadata": {},
   "outputs": [],
   "source": []
  },
  {
   "cell_type": "code",
   "execution_count": 325,
   "metadata": {},
   "outputs": [],
   "source": []
  },
  {
   "cell_type": "code",
   "execution_count": 326,
   "metadata": {},
   "outputs": [],
   "source": [
    "\n",
    "G = nx.DiGraph()\n",
    "for v,l in arvore.items():\n",
    "    if type(l)==tuple:\n",
    "        if type(l[1])!=tuple:\n",
    "            G.add_node(v,label=(l[0],'{0:.2f}'.format(l[1])))\n",
    "        else:\n",
    "            G.add_node(v,label=l)\n",
    "            \n",
    "    else:\n",
    "        G.add_node(v,label='{0:.2f}'.format(l))\n",
    "\n",
    "for v in G.nodes():\n",
    "    \n",
    "    if 2*v+1 in G:\n",
    "        G.add_edge(v,2*v+1)\n",
    "    if 2*v+2 in G:\n",
    "        G.add_edge(v,2*v+2)\n",
    "\n",
    "os.environ[\"PATH\"] += os.pathsep + 'C:/Program Files (x86)/Graphviz2.38/bin/'\n",
    "p=nx.drawing.nx_pydot.to_pydot(G)\n",
    "p.write_png('example.png')"
   ]
  },
  {
   "cell_type": "code",
   "execution_count": 2,
   "metadata": {},
   "outputs": [
    {
     "name": "stdout",
     "output_type": "stream",
     "text": [
      "None\n"
     ]
    }
   ],
   "source": []
  },
  {
   "cell_type": "code",
   "execution_count": 304,
   "metadata": {},
   "outputs": [],
   "source": []
  },
  {
   "cell_type": "code",
   "execution_count": null,
   "metadata": {},
   "outputs": [],
   "source": []
  }
 ],
 "metadata": {
  "kernelspec": {
   "display_name": "Python 3",
   "language": "python",
   "name": "python3"
  },
  "language_info": {
   "codemirror_mode": {
    "name": "ipython",
    "version": 3
   },
   "file_extension": ".py",
   "mimetype": "text/x-python",
   "name": "python",
   "nbconvert_exporter": "python",
   "pygments_lexer": "ipython3",
   "version": "3.5.2"
  }
 },
 "nbformat": 4,
 "nbformat_minor": 2
}
