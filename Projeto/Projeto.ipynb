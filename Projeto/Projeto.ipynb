{
 "cells": [
  {
   "cell_type": "code",
   "execution_count": 1,
   "metadata": {},
   "outputs": [],
   "source": [
    "import os.path\n",
    "import numpy as np\n",
    "import copy\n",
    "\n",
    "arquivo = os.path.join('projeto.csv') \n",
    "\n",
    "dataRDD = (sc.textFile(arquivo, 8))"
   ]
  },
  {
   "cell_type": "code",
   "execution_count": 2,
   "metadata": {},
   "outputs": [],
   "source": [
    "lpRDD = dataRDD.map(lambda l: l.split(';')).map(lambda l: {'label':float(l[0]),'features':[float(l[1]),float(l[2]),l[3]]})"
   ]
  },
  {
   "cell_type": "code",
   "execution_count": 3,
   "metadata": {
    "hide_input": false
   },
   "outputs": [],
   "source": [
    "def contador(lp, feats, splits):\n",
    "    r = []\n",
    "    for feat in feats:\n",
    "        splitss = splits[feat]\n",
    "        for split in splitss:\n",
    "            if feat==3:\n",
    "                r.append( ((feat,split), ((0,lp['label']), (0,lp['label']**2), (0,1))))\n",
    "            elif feat==0 or feat==1:\n",
    "                if lp['features'][feat] >= split:\n",
    "                    r.append( ((feat,split), ((0,lp['label']), (0,lp['label']**2), (0,1))))\n",
    "                else:\n",
    "                    r.append( ((feat,split), ((lp['label'],0), (lp['label']**2,0), (1,0))))\n",
    "                \n",
    "            elif feat==2:                \n",
    "                if lp['features'][feat] in split:\n",
    "                    r.append( ((feat,split), ((0,lp['label']), (0,lp['label']**2), (0,1))))\n",
    "                else:\n",
    "                    r.append( ((feat,split), ((lp['label'],0), (lp['label']**2,0), (1,0))))\n",
    "                \n",
    "    return r"
   ]
  },
  {
   "cell_type": "code",
   "execution_count": 4,
   "metadata": {},
   "outputs": [],
   "source": [
    "def soma(t1,t2):\n",
    "    return  ((t1[0][0]+t2[0][0],t1[0][1]+t2[0][1]), #((0.668333333, 0), (0.44666944399888886, 0), (1, 0))\n",
    "             (t1[1][0]+t2[1][0],t1[1][1]+t2[1][1]),\n",
    "             (t1[2][0]+t2[2][0],t1[2][1]+t2[2][1]))"
   ]
  },
  {
   "cell_type": "code",
   "execution_count": 5,
   "metadata": {},
   "outputs": [],
   "source": [
    "def calc_stats(t):\n",
    "    if t[1][2][0] > 0:\n",
    "        mmenor = t[1][0][0] / t[1][2][0]\n",
    "        sdmenor = (t[1][1][0] - (t[1][0][0]**2 / t[1][2][0]))/(t[1][2][0])\n",
    "        cvmenor = np.sqrt(sdmenor)/mmenor*100\n",
    "        menor = (sdmenor, cvmenor,t[1][2][0])\n",
    "    else:\n",
    "        menor = (0, 0, 0)\n",
    "    \n",
    "    if t[1][2][1] > 0:    \n",
    "        mmaior = t[1][0][1] / t[1][2][1]\n",
    "        sdmaior = (t[1][1][1] - (t[1][0][1]**2 / t[1][2][1]))/(t[1][2][1])\n",
    "        cvmaior = np.sqrt(sdmaior)/mmaior*100\n",
    "        maior = (sdmaior, cvmaior,t[1][2][1])\n",
    "    else:\n",
    "        maior = (0, 0, 0)\n",
    "    return (t[0], menor, maior)"
   ]
  },
  {
   "cell_type": "code",
   "execution_count": 6,
   "metadata": {},
   "outputs": [],
   "source": [
    "def sdreduction(t,c):\n",
    "    #return ((t[0], c[2][0] - t[1][0]*(t[1][2]/c[2][2]) - t[2][0]*(t[2][2]/c[2][2]))) \n",
    "    return ((t[0], c[2][0] - (t[1][2]/c[2][2])*t[1][0] - (t[2][2]/c[2][2])*t[2][0], (t[1][1], t[2][1]))) "
   ]
  },
  {
   "cell_type": "code",
   "execution_count": 7,
   "metadata": {},
   "outputs": [],
   "source": [
    "def prepara(t):\n",
    "    \n",
    "    return ((t['features'][0],t['features'][0]),(t['features'][1],t['features'][1]), set((t['features'][2],)))\n",
    "    \n",
    "def minmax(t1,t2):\n",
    "    return ((min(t1[0][0],t2[0][0]),max(t1[0][1],t2[0][1])),\n",
    "            (min(t1[1][0],t2[1][0]),max(t1[1][1],t2[1][1])),\n",
    "             t1[2].union(t2[2]))"
   ]
  },
  {
   "cell_type": "code",
   "execution_count": 49,
   "metadata": {},
   "outputs": [],
   "source": [
    "import time\n",
    "def tree(lpRDD, maxDepth=1, currDepth=0, st=None,verbose=1, arvore={}, pos=0):\n",
    "    if st!=None:\n",
    "        if st[0]<10 or maxDepth<currDepth or st[1]<0:\n",
    "            media = lpRDD.map(lambda x: x['label']).mean()\n",
    "            arvore[pos] = media\n",
    "            print (st, media, currDepth, pos, lpRDD.count())\n",
    "            return arvore #[caminho, (direction, media)]    \n",
    "    \n",
    "    t0 = time.time()\n",
    "    if verbose >= 2:\n",
    "        print ('total: %s'%lpRDD.count())\n",
    "\n",
    "    (min0,max0),(min1,max1),periods =lpRDD.map(prepara).reduce(minmax)\n",
    "    \n",
    "    if verbose >= 2:\n",
    "        print ( \"min-max-uniques:\", (min0,max0),(min1,max1),periods)\n",
    "    if verbose >= 2:\n",
    "        print ('calc minmax: %.2f s'%(time.time()-t0))\n",
    "    \n",
    "    periods = list(periods)\n",
    "\n",
    "    \n",
    "    distsplits = [i*(max0-min0)/5. for i in range(1,5)]\n",
    "    timesplits = [i*(max1-min1)/5. for i in range(1,5)]    \n",
    "    perisplits = [tuple([periods[j] for j in range(i+1)]) for i in range(len(periods)-1)]\n",
    "\n",
    "    feats = [0,1,2,3]\n",
    "    splits = [distsplits,timesplits,perisplits,['full']] \n",
    "    \n",
    "    results = lpRDD.flatMap(lambda lp: contador(lp,feats,splits)).reduceByKey(soma)\n",
    "    \n",
    "    if verbose >= 2:\n",
    "        print ('contador: %.2f s'%(time.time()-t0))\n",
    "    statistics = results.map(lambda c: calc_stats(c)).filter(lambda x: x[0][0]<3)\n",
    "    if verbose >= 2:\n",
    "        print ('estatísticas: %.2f s'%(time.time()-t0))\n",
    "    \n",
    "    statistics3 = results.map(lambda c: calc_stats(c)).filter(lambda x: x[0][0]==3)\n",
    "    classe = statistics3.collect()[0]\n",
    "    es = statistics.map(lambda x: sdreduction(x,classe)).collect()  \n",
    "    e = max(es, key = lambda t: t[1]) #atributo / split escolhido\n",
    "    \n",
    "    if verbose >= 1:\n",
    "        print ('atributo escolhido: %.2f s'%(time.time()-t0))\n",
    "        print (e)\n",
    "        \n",
    "        \n",
    "    if e[0][0]<2:\n",
    "            menorRDD = lpRDD.filter(lambda v: v['features'][e[0][0]]<e[0][1])\n",
    "            if verbose >= 2:\n",
    "                print ('filtro menor01: %.2f s'%(time.time()-t0))\n",
    "            maiorRDD = lpRDD.filter(lambda v: v['features'][e[0][0]]>e[0][1])   \n",
    "            if verbose >= 2:\n",
    "                print ('filtro maior01: %.2f s'%(time.time()-t0))\n",
    "    elif e[0][0]==2:\n",
    "            menorRDD = lpRDD.filter(lambda v: v['features'][e[0][0]] in e[0][1])\n",
    "            if verbose >= 2:\n",
    "                print ('filtro menor2: %.2f s'%(time.time()-t0))\n",
    "            maiorRDD = lpRDD.filter(lambda v: v['features'][e[0][0]] not in e[0][1])\n",
    "            if verbose >= 2:\n",
    "                print ('filtro maior2: %.2f s'%(time.time()-t0))\n",
    "    \n",
    "    #caminho.append((direction,e[0]))\n",
    "    #camenor = copy.deepcopy(caminho)\n",
    "    #camaior = copy.deepcopy(caminho)\n",
    "    arvore[pos] = e[0]\n",
    "    print (e[0], pos)\n",
    "    \n",
    "    if menorRDD.count()>1:\n",
    "        amenor = tree(menorRDD, maxDepth, currDepth+1,(e[2][0], e[1]),verbose,arvore,pos=(2*pos+1))\n",
    "  \n",
    "    if maiorRDD.count()>1:\n",
    "        amaior = tree(maiorRDD, maxDepth, currDepth+1,(e[2][1], e[1]),verbose,arvore,pos=(2*pos+2))\n",
    "    return arvore"
   ]
  },
  {
   "cell_type": "code",
   "execution_count": null,
   "metadata": {},
   "outputs": [
    {
     "name": "stdout",
     "output_type": "stream",
     "text": [
      "(1, 2.658277778) 0\n",
      "(1, 1.5948333336) 1\n",
      "(1, 1.2757777775999999) 3\n",
      "(1, 1.0204444448) 7\n"
     ]
    }
   ],
   "source": [
    "ti=time.time()\n",
    "arvore = tree(lpRDD,maxDepth=16,verbose=0)\n",
    "tf = time.time()"
   ]
  },
  {
   "cell_type": "code",
   "execution_count": null,
   "metadata": {},
   "outputs": [],
   "source": [
    "print('Tempo total de construção: %.2f'%(tf-ti))"
   ]
  },
  {
   "cell_type": "code",
   "execution_count": null,
   "metadata": {},
   "outputs": [],
   "source": [
    "arvore"
   ]
  },
  {
   "cell_type": "code",
   "execution_count": null,
   "metadata": {},
   "outputs": [],
   "source": []
  }
 ],
 "metadata": {
  "kernelspec": {
   "display_name": "Python 3",
   "language": "python",
   "name": "python3"
  },
  "language_info": {
   "codemirror_mode": {
    "name": "ipython",
    "version": 3
   },
   "file_extension": ".py",
   "mimetype": "text/x-python",
   "name": "python",
   "nbconvert_exporter": "python",
   "pygments_lexer": "ipython3",
   "version": "3.5.2"
  }
 },
 "nbformat": 4,
 "nbformat_minor": 2
}
