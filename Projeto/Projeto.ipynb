{
 "cells": [
  {
   "cell_type": "code",
   "execution_count": 44,
   "metadata": {},
   "outputs": [],
   "source": [
    "import os.path\n",
    "import numpy as np\n",
    "import copy\n",
    "import networkx as nx\n",
    "import os\n",
    "import pickle\n",
    "import time"
   ]
  },
  {
   "cell_type": "code",
   "execution_count": 45,
   "metadata": {},
   "outputs": [],
   "source": [
    "arquivo = os.path.join('projeto.csv')\n",
    "dataRDD = (sc.textFile(arquivo, 8))\n",
    "RDD1 = dataRDD.map(lambda l: l.split(',')).map(lambda l: {'label':float(l[0]),'features':[float(l[1]),float(l[2]),l[3]]})\n",
    "RDD = RDD1.filter(lambda v: v['label']<=1.61) #removing outliers\n",
    "weights = [.999,.001]\n",
    "seed = 42\n",
    "lpRDD, lpTest = RDD.randomSplit(weights, seed)"
   ]
  },
  {
   "cell_type": "code",
   "execution_count": 46,
   "metadata": {
    "hide_input": false
   },
   "outputs": [],
   "source": [
    "def contador(lp, feats, splits):\n",
    "    \"\"\"Adds an 's' to `palavra`.\n",
    "\n",
    "    Args:\n",
    "        palavra (str): A string.\n",
    "\n",
    "    Returns:\n",
    "        str: A string with 's' added to it.\n",
    "    \"\"\"\n",
    "    r = []\n",
    "    for feat in feats:\n",
    "        splitss = splits[feat]\n",
    "        for split in splitss:\n",
    "            if feat==3:\n",
    "                r.append( ((feat,split), ((0,lp['label']), (0,lp['label']**2), (0,1))))\n",
    "            elif feat==0 or feat==1:\n",
    "                if lp['features'][feat] >= split:\n",
    "                    r.append( ((feat,split), ((0,lp['label']), (0,lp['label']**2), (0,1))))\n",
    "                else:\n",
    "                    r.append( ((feat,split), ((lp['label'],0), (lp['label']**2,0), (1,0))))\n",
    "                \n",
    "            elif feat==2:                \n",
    "                if lp['features'][feat] in split:\n",
    "                    r.append( ((feat,split), ((0,lp['label']), (0,lp['label']**2), (0,1))))\n",
    "                else:\n",
    "                    r.append( ((feat,split), ((lp['label'],0), (lp['label']**2,0), (1,0))))\n",
    "                \n",
    "    return r\n",
    "\n",
    "def soma(t1,t2):\n",
    "    \"\"\"Adds an 's' to `palavra`.\n",
    "\n",
    "    Args:\n",
    "        palavra (str): A string.\n",
    "\n",
    "    Returns:\n",
    "        str: A string with 's' added to it.\n",
    "    \"\"\"\n",
    "    return  ((t1[0][0]+t2[0][0],t1[0][1]+t2[0][1]), \n",
    "             (t1[1][0]+t2[1][0],t1[1][1]+t2[1][1]),\n",
    "             (t1[2][0]+t2[2][0],t1[2][1]+t2[2][1]))"
   ]
  },
  {
   "cell_type": "code",
   "execution_count": 47,
   "metadata": {},
   "outputs": [],
   "source": [
    "def calc_stats(t):\n",
    "    \"\"\"Adds an 's' to `palavra`.\n",
    "\n",
    "    Args:\n",
    "        palavra (str): A string.\n",
    "\n",
    "    Returns:\n",
    "        str: A string with 's' added to it.\n",
    "    \"\"\"\n",
    "    if t[1][2][0] > 0:\n",
    "        mmenor = t[1][0][0] / t[1][2][0]\n",
    "        sdmenor = (t[1][1][0] - (t[1][0][0]**2 / t[1][2][0]))/(t[1][2][0])\n",
    "        cvmenor = np.sqrt(sdmenor)/mmenor*100\n",
    "        menor = (sdmenor, cvmenor,t[1][2][0])\n",
    "    else:\n",
    "        menor = (0, 0, 0)\n",
    "    \n",
    "    if t[1][2][1] > 0:    \n",
    "        mmaior = t[1][0][1] / t[1][2][1]\n",
    "        sdmaior = (t[1][1][1] - (t[1][0][1]**2 / t[1][2][1]))/(t[1][2][1])\n",
    "        cvmaior = np.sqrt(sdmaior)/mmaior*100\n",
    "        maior = (sdmaior, cvmaior,t[1][2][1])\n",
    "    else:\n",
    "        maior = (0, 0, 0)\n",
    "    return (t[0], menor, maior)\n",
    "\n",
    "def informationGain(t,c):\n",
    "    \"\"\"Adds an 's' to `palavra`.\n",
    "\n",
    "    Args:\n",
    "        palavra (str): A string.\n",
    "\n",
    "    Returns:\n",
    "        str: A string with 's' added to it.\n",
    "    \"\"\"\n",
    "    return ((t[0], c[2][0] - (t[1][2]/c[2][2])*t[1][0] - (t[2][2]/c[2][2])*t[2][0], (t[1][1], t[2][1]))) "
   ]
  },
  {
   "cell_type": "code",
   "execution_count": 48,
   "metadata": {},
   "outputs": [],
   "source": [
    "def preparaMMU(t):\n",
    "    \"\"\"Adds an 's' to `palavra`.\n",
    "\n",
    "    Args:\n",
    "        palavra (str): A string.\n",
    "\n",
    "    Returns:\n",
    "        str: A string with 's' added to it.\n",
    "    \"\"\"    \n",
    "    return ((t['features'][0],t['features'][0]),(t['features'][1],t['features'][1]), set((t['features'][2],)))\n",
    "    \n",
    "def minmax_unique(t1,t2):\n",
    "    \"\"\"Adds an 's' to `palavra`.\n",
    "\n",
    "    Args:\n",
    "        palavra (str): A string.\n",
    "\n",
    "    Returns:\n",
    "        str: A string with 's' added to it.\n",
    "    \"\"\"\n",
    "    return ((min(t1[0][0],t2[0][0]),max(t1[0][1],t2[0][1])),\n",
    "            (min(t1[1][0],t2[1][0]),max(t1[1][1],t2[1][1])),\n",
    "             t1[2].union(t2[2]))"
   ]
  },
  {
   "cell_type": "code",
   "execution_count": 49,
   "metadata": {},
   "outputs": [],
   "source": [
    "def predict(arvore, lp, i=0):\n",
    "    \"\"\"Adds an 's' to `palavra`.\n",
    "\n",
    "    Args:\n",
    "        palavra (str): A string.\n",
    "\n",
    "    Returns:\n",
    "        str: A string with 's' added to it.\n",
    "    \"\"\"\n",
    "    if type(arvore[i]) != tuple:\n",
    "        if arvore[i]!=0:\n",
    "            return (lp['label'], arvore[i])\n",
    "        else:\n",
    "            return (lp['label'], lp['label'])\n",
    "    \n",
    "    node = arvore[i]\n",
    "\n",
    "    if node[0]<2:\n",
    "        if lp['features'][node[0]]<node[1]:\n",
    "            return predict(arvore, lp, 2*i+1)\n",
    "        else:\n",
    "            return predict(arvore, lp, 2*i+2)\n",
    "    elif node[0]==2:\n",
    "        if lp['features'][node[0]] in node[1]:\n",
    "            return predict(arvore, lp, 2*i+1)\n",
    "        else:\n",
    "            return predict(arvore, lp, 2*i+2)\n",
    "        \n",
    "    "
   ]
  },
  {
   "cell_type": "code",
   "execution_count": 59,
   "metadata": {},
   "outputs": [],
   "source": [
    "def makeSplits(lpRDD):\n",
    "    \"\"\"Adds an 's' to `palavra`.\n",
    "\n",
    "    Args:\n",
    "        palavra (str): A string.\n",
    "\n",
    "    Returns:\n",
    "        str: A string with 's' added to it.\n",
    "    \"\"\"\n",
    "    (min0,max0),(min1,max1),periods =lpRDD.map(preparaMMU).reduce(minmax_unique)\n",
    "    \n",
    "    periods = list(periods)\n",
    "\n",
    "    \n",
    "    distsplits = [i*(max0-min0)/5. for i in range(1,5)]\n",
    "    timesplits = [i*(max1-min1)/5. for i in range(1,5)]    \n",
    "    perisplits = [tuple([periods[j] for j in range(i+1)]) for i in range(len(periods)-1)]\n",
    "\n",
    "    feats = [0,1,2,3]\n",
    "    splits = [distsplits,timesplits,perisplits,['full']] \n",
    "    return (feats,splits)"
   ]
  },
  {
   "cell_type": "code",
   "execution_count": 60,
   "metadata": {},
   "outputs": [],
   "source": [
    "def infoGainSplit(lpRDD,feats,splits):\n",
    "    \"\"\"Adds an 's' to `palavra`.\n",
    "\n",
    "    Args:\n",
    "        palavra (str): A string.\n",
    "\n",
    "    Returns:\n",
    "        str: A string with 's' added to it.\n",
    "    \"\"\"\n",
    "    results = lpRDD.flatMap(lambda lp: contador(lp,feats,splits)).reduceByKey(soma)    \n",
    "    statistics = results.map(lambda c: calc_stats(c))    \n",
    "    classe = statistics.filter(lambda x: x[0][0]==3).collect()[0]\n",
    "    es = statistics.filter(lambda x: x[0][0]<3).map(lambda x: informationGain(x,classe)).collect()          \n",
    "    e = max(es, key = lambda t: t[1]) #atributo / split escolhido   \n",
    "    return e"
   ]
  },
  {
   "cell_type": "code",
   "execution_count": 61,
   "metadata": {},
   "outputs": [],
   "source": [
    "def splitData(lpRDD, e):\n",
    "    \"\"\"Adds an 's' to `palavra`.\n",
    "\n",
    "    Args:\n",
    "        palavra (str): A string.\n",
    "\n",
    "    Returns:\n",
    "        str: A string with 's' added to it.\n",
    "    \"\"\"\n",
    "    if e[0][0]<2:\n",
    "            menorRDD = lpRDD.filter(lambda v: v['features'][e[0][0]]<e[0][1])\n",
    "            maiorRDD = lpRDD.filter(lambda v: v['features'][e[0][0]]>e[0][1])\n",
    "    elif e[0][0]==2:\n",
    "            menorRDD = lpRDD.filter(lambda v: v['features'][e[0][0]] in e[0][1])\n",
    "            maiorRDD = lpRDD.filter(lambda v: v['features'][e[0][0]] not in e[0][1])\n",
    "    return (menorRDD,maiorRDD)"
   ]
  },
  {
   "cell_type": "code",
   "execution_count": 62,
   "metadata": {},
   "outputs": [],
   "source": [
    "def savetree(arvore, filename):\n",
    "    \"\"\"Adds an 's' to `palavra`.\n",
    "\n",
    "    Args:\n",
    "        palavra (str): A string.\n",
    "\n",
    "    Returns:\n",
    "        str: A string with 's' added to it.\n",
    "    \"\"\"\n",
    "    with open(filename, 'wb') as handle:\n",
    "        pickle.dump(arvore, handle, protocol=pickle.HIGHEST_PROTOCOL)"
   ]
  },
  {
   "cell_type": "code",
   "execution_count": 63,
   "metadata": {},
   "outputs": [],
   "source": [
    "def readtree(filename):\n",
    "    \"\"\"Adds an 's' to `palavra`.\n",
    "\n",
    "    Args:\n",
    "        palavra (str): A string.\n",
    "\n",
    "    Returns:\n",
    "        str: A string with 's' added to it.\n",
    "    \"\"\"\n",
    "    with open(filename, 'rb') as handle:\n",
    "        arvore = pickle.load(handle)\n",
    "    return arvore"
   ]
  },
  {
   "cell_type": "code",
   "execution_count": 64,
   "metadata": {},
   "outputs": [],
   "source": [
    "def calcError(lpTest, arvore):\n",
    "    \"\"\"Adds an 's' to `palavra`.\n",
    "\n",
    "    Args:\n",
    "        palavra (str): A string.\n",
    "\n",
    "    Returns:\n",
    "        str: A string with 's' added to it.\n",
    "    \"\"\"\n",
    "    sqr = lpTest.map(lambda x: predict(arvore, x)).map(lambda x: (x[0]-x[1])**2).sum()\n",
    "    return sqr"
   ]
  },
  {
   "cell_type": "code",
   "execution_count": 65,
   "metadata": {},
   "outputs": [],
   "source": [
    "def treeimage(arvore):\n",
    "    \"\"\"Adds an 's' to `palavra`.\n",
    "\n",
    "    Args:\n",
    "        palavra (str): A string.\n",
    "\n",
    "    Returns:\n",
    "        str: A string with 's' added to it.\n",
    "    \"\"\"\n",
    "    G = nx.DiGraph()\n",
    "    for v,l in arvore.items():\n",
    "        if type(l)==tuple:\n",
    "            if type(l[1])!=tuple:\n",
    "                G.add_node(v,label=(l[0],'{0:.2f}'.format(l[1])))\n",
    "            else:\n",
    "                G.add_node(v,label=l)\n",
    "            \n",
    "        else:\n",
    "            G.add_node(v,label='{0:.2f}'.format(l))\n",
    "\n",
    "    for v in G.nodes():\n",
    "    \n",
    "        if 2*v+1 in G:\n",
    "            G.add_edge(v,2*v+1)\n",
    "        if 2*v+2 in G:\n",
    "            G.add_edge(v,2*v+2)\n",
    "\n",
    "    os.environ[\"PATH\"] += os.pathsep + 'C:/Program Files (x86)/Graphviz2.38/bin/'\n",
    "    p=nx.drawing.nx_pydot.to_pydot(G)\n",
    "    p.write_png('arvore4.png')"
   ]
  },
  {
   "cell_type": "code",
   "execution_count": 69,
   "metadata": {},
   "outputs": [],
   "source": [
    "def buildTree(lpRDD, maxDepth=1, currDepth=0, st=None, arvore={}, pos=0):\n",
    "    \"\"\"Adds an 's' to `palavra`.\n",
    "\n",
    "    Args:\n",
    "        palavra (str): A string.\n",
    "\n",
    "    Returns:\n",
    "        str: A string with 's' added to it.\n",
    "    \"\"\"\n",
    "    if st!=None:\n",
    "        if st[0]<10 or maxDepth<currDepth or st[1]<0:\n",
    "            media = lpRDD.map(lambda x: x['label']).mean()\n",
    "            arvore[pos] = media\n",
    "            return arvore \n",
    "    \n",
    "\n",
    "    feats,splits = makeSplits(lpRDD)\n",
    "    \n",
    "    e = infoGainSplit(lpRDD,feats,splits)\n",
    "    \n",
    "    menorRDD,maiorRDD = splitData(lpRDD, e)\n",
    "    \n",
    "    arvore[pos] = e[0]\n",
    "    \n",
    "    amenor = buildTree(menorRDD, maxDepth, currDepth+1,(e[2][0], e[1]),arvore,pos=(2*pos+1))\n",
    "    amaior = buildTree(maiorRDD, maxDepth, currDepth+1,(e[2][1], e[1]),arvore,pos=(2*pos+2))\n",
    "    return arvore"
   ]
  },
  {
   "cell_type": "code",
   "execution_count": 70,
   "metadata": {
    "scrolled": true
   },
   "outputs": [
    {
     "name": "stdout",
     "output_type": "stream",
     "text": [
      "Tempo total de construção paralelizado (local[4]): 1379.77 segundos\n"
     ]
    }
   ],
   "source": [
    "ti=time.time()\n",
    "arvore = buildTree(lpRDD,maxDepth=1)\n",
    "tf = time.time()\n",
    "print('Tempo total de construção paralelizado (local[4]): %.2f segundos'%(tf-ti))"
   ]
  },
  {
   "cell_type": "code",
   "execution_count": 72,
   "metadata": {},
   "outputs": [
    {
     "name": "stdout",
     "output_type": "stream",
     "text": [
      "103.74703903274495\n"
     ]
    }
   ],
   "source": [
    "print(calcError(lpTest, arvore))"
   ]
  },
  {
   "cell_type": "code",
   "execution_count": null,
   "metadata": {},
   "outputs": [],
   "source": []
  },
  {
   "cell_type": "code",
   "execution_count": 43,
   "metadata": {},
   "outputs": [],
   "source": []
  }
 ],
 "metadata": {
  "kernelspec": {
   "display_name": "Python 3",
   "language": "python",
   "name": "python3"
  },
  "language_info": {
   "codemirror_mode": {
    "name": "ipython",
    "version": 3
   },
   "file_extension": ".py",
   "mimetype": "text/x-python",
   "name": "python",
   "nbconvert_exporter": "python",
   "pygments_lexer": "ipython3",
   "version": "3.6.5"
  }
 },
 "nbformat": 4,
 "nbformat_minor": 2
}
